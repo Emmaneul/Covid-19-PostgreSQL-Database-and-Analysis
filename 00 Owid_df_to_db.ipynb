{
 "cells": [
  {
   "cell_type": "markdown",
   "id": "7ed8c122",
   "metadata": {},
   "source": [
    "**IMPORT LIBRARIES**"
   ]
  },
  {
   "cell_type": "code",
   "execution_count": 1,
   "id": "02455dd5",
   "metadata": {},
   "outputs": [],
   "source": [
    "import psycopg2 as ps\n",
    "import numpy as np\n",
    "import pandas as pd"
   ]
  },
  {
   "cell_type": "markdown",
   "id": "5860d876",
   "metadata": {},
   "source": [
    "**CONNECT TO DATABASE**"
   ]
  },
  {
   "cell_type": "code",
   "execution_count": 2,
   "id": "21042a1f",
   "metadata": {},
   "outputs": [],
   "source": [
    "host_name = 'localhost'\n",
    "dbname = 'owid_covid_19_db'\n",
    "port = '5432'\n",
    "username = 'postgres' \n",
    "password = 'password'\n",
    "conn = None"
   ]
  },
  {
   "cell_type": "code",
   "execution_count": 3,
   "id": "50f9ebaa",
   "metadata": {},
   "outputs": [],
   "source": [
    "def connect_to_db(host_name, dbname, port, username, password):\n",
    "    try:\n",
    "        conn = ps.connect(host=host_name, database=dbname, user=username, password=password, port=port)\n",
    "\n",
    "    except ps.OperationalError as e:\n",
    "        raise e\n",
    "    else:\n",
    "        print('Connected!')\n",
    "        return conn"
   ]
  },
  {
   "cell_type": "code",
   "execution_count": 4,
   "id": "520b045a",
   "metadata": {},
   "outputs": [
    {
     "name": "stdout",
     "output_type": "stream",
     "text": [
      "Connected!\n"
     ]
    }
   ],
   "source": [
    "conn = connect_to_db(host_name, dbname,port, username, password)"
   ]
  },
  {
   "cell_type": "code",
   "execution_count": 5,
   "id": "8cb0d736",
   "metadata": {},
   "outputs": [],
   "source": [
    "curr = conn.cursor()"
   ]
  },
  {
   "cell_type": "markdown",
   "id": "d7c715e6",
   "metadata": {},
   "source": [
    "**UPLOAD DATA**"
   ]
  },
  {
   "cell_type": "code",
   "execution_count": 6,
   "id": "3efccff2",
   "metadata": {},
   "outputs": [],
   "source": [
    "df_1 = pd.read_excel('DATA/covid-testing-latest-data-source-details.xlsx')\n",
    "df_2 = pd.read_csv('DATA/covid-variants.csv')\n",
    "df_3 = pd.read_csv('DATA/excess-deaths.csv')\n",
    "df_4 = pd.read_csv('DATA/owid-covid-data.csv')\n",
    "df_5 = pd.read_csv('DATA/vaccine-type data RSA.csv', sep = '\\t')"
   ]
  },
  {
   "cell_type": "code",
   "execution_count": 7,
   "id": "12ace2b8",
   "metadata": {},
   "outputs": [],
   "source": [
    "df_1.replace([np.inf, -np.inf], np.nan, inplace=True)\n",
    "df_2.replace([np.inf, -np.inf], np.nan, inplace=True)\n",
    "df_3.replace([np.inf, -np.inf], np.nan, inplace=True)\n",
    "df_4.replace([np.inf, -np.inf], np.nan, inplace=True)\n",
    "df_5.replace([np.inf, -np.inf], np.nan, inplace=True)"
   ]
  },
  {
   "cell_type": "code",
   "execution_count": 8,
   "id": "52bbdb34",
   "metadata": {},
   "outputs": [],
   "source": [
    "def replace_null_with_zero(cols):\n",
    "    value = cols\n",
    "    if pd.isnull(value):\n",
    "        return 0\n",
    "    else:\n",
    "        return value"
   ]
  },
  {
   "cell_type": "code",
   "execution_count": 9,
   "id": "837e1752",
   "metadata": {},
   "outputs": [],
   "source": [
    "for df in [df_1,df_2,df_3,df_4,df_5]:\n",
    "    for col in df.columns:\n",
    "      df[col] = df[col].apply(replace_null_with_zero)"
   ]
  },
  {
   "cell_type": "code",
   "execution_count": 10,
   "id": "1807cc86",
   "metadata": {},
   "outputs": [],
   "source": [
    "def make_zero(num):\n",
    "    if num < 0:\n",
    "        return 0\n",
    "    else:\n",
    "        return num"
   ]
  },
  {
   "cell_type": "code",
   "execution_count": 11,
   "id": "0f6e7584",
   "metadata": {},
   "outputs": [],
   "source": [
    "df_4['new_deaths'] = df_4['new_deaths'].apply(lambda x : make_zero(x))"
   ]
  },
  {
   "cell_type": "markdown",
   "id": "1aa85b71",
   "metadata": {},
   "source": [
    "**DELETE VIEWS AND TABLE**"
   ]
  },
  {
   "cell_type": "code",
   "execution_count": 12,
   "id": "6796da4b",
   "metadata": {},
   "outputs": [],
   "source": [
    "def delete_view_1(curr):\n",
    "    delete_view_command = (\"\"\"DROP VIEW IF EXISTS main_covid_19_data\"\"\")\n",
    "    curr.execute(delete_view_command)"
   ]
  },
  {
   "cell_type": "code",
   "execution_count": 13,
   "id": "43587c54",
   "metadata": {},
   "outputs": [],
   "source": [
    "def delete_view_2(curr):\n",
    "    delete_view_command = (\"\"\"DROP VIEW IF EXISTS continent_population\"\"\")\n",
    "    curr.execute(delete_view_command)"
   ]
  },
  {
   "cell_type": "code",
   "execution_count": 14,
   "id": "ea68d28f",
   "metadata": {},
   "outputs": [],
   "source": [
    "def delete_view_3(curr):\n",
    "    delete_view_command = (\"\"\"DROP VIEW IF EXISTS country_population\"\"\")\n",
    "    curr.execute(delete_view_command)"
   ]
  },
  {
   "cell_type": "code",
   "execution_count": 15,
   "id": "46574136",
   "metadata": {},
   "outputs": [],
   "source": [
    "delete_view_1(curr)\n",
    "delete_view_2(curr)\n",
    "delete_view_3(curr)\n",
    "conn.commit()"
   ]
  },
  {
   "cell_type": "code",
   "execution_count": 16,
   "id": "1089defe",
   "metadata": {},
   "outputs": [],
   "source": [
    "def delete_table_1(curr):\n",
    "    delete_table_command = (\"\"\"DROP TABLE IF EXISTS covid_testing\"\"\")\n",
    "    curr.execute(delete_table_command)"
   ]
  },
  {
   "cell_type": "code",
   "execution_count": 17,
   "id": "414f1ba8",
   "metadata": {},
   "outputs": [],
   "source": [
    "def delete_table_2(curr):\n",
    "    delete_table_command = (\"\"\"DROP TABLE IF EXISTS covid_variants\"\"\")\n",
    "    curr.execute(delete_table_command)"
   ]
  },
  {
   "cell_type": "code",
   "execution_count": 18,
   "id": "3cf6f4c6",
   "metadata": {},
   "outputs": [],
   "source": [
    "def delete_table_3(curr):\n",
    "    delete_table_command = (\"\"\"DROP TABLE IF EXISTS excess_deaths\"\"\")\n",
    "    curr.execute(delete_table_command)"
   ]
  },
  {
   "cell_type": "code",
   "execution_count": 19,
   "id": "dfa81368",
   "metadata": {},
   "outputs": [],
   "source": [
    "def delete_table_4(curr):\n",
    "    delete_table_command = (\"\"\"DROP TABLE IF EXISTS owid_covid_table\"\"\")\n",
    "    curr.execute(delete_table_command)"
   ]
  },
  {
   "cell_type": "code",
   "execution_count": 20,
   "id": "d3b90b82",
   "metadata": {},
   "outputs": [],
   "source": [
    "def delete_table_5(curr):\n",
    "    delete_table_command = (\"\"\"DROP TABLE IF EXISTS vaccine_type\"\"\")\n",
    "    curr.execute(delete_table_command)"
   ]
  },
  {
   "cell_type": "code",
   "execution_count": 21,
   "id": "2ce5b1e1",
   "metadata": {},
   "outputs": [],
   "source": [
    "delete_table_1(curr)\n",
    "delete_table_2(curr)\n",
    "delete_table_3(curr)\n",
    "delete_table_4(curr)\n",
    "delete_table_5(curr)\n",
    "conn.commit()"
   ]
  },
  {
   "cell_type": "markdown",
   "id": "224d9cdc",
   "metadata": {},
   "source": [
    "**CREATE TABLES**"
   ]
  },
  {
   "cell_type": "code",
   "execution_count": 22,
   "id": "808c036c",
   "metadata": {},
   "outputs": [],
   "source": [
    "def create_table_1(curr):\n",
    "    create_table_command = (\"\"\"CREATE TABLE covid_testing(\n",
    "                ISO_code VARCHAR(50),\n",
    "                Entity VARCHAR(150),\n",
    "                Date VARCHAR(100),\n",
    "                Source_URL VARCHAR(500),\n",
    "                Source_label VARCHAR(150),\n",
    "                Notes VARCHAR(150),\n",
    "                Number_of_observations INTEGER,\n",
    "                Cumulative_total NUMERIC,\n",
    "                Cumulative_total_per_thousand NUMERIC,\n",
    "                Daily_change_in_cumulative_total NUMERIC,\n",
    "                Daily_change_in_cumulative_total_per_thousand NUMERIC,\n",
    "                seven_day_smoothed_daily_change NUMERIC,\n",
    "                seven_day_smoothed_daily_change_per_thousand NUMERIC,\n",
    "                Short_term_positive_rate NUMERIC,\n",
    "                Short_term_tests_per_case NUMERIC,\n",
    "                General_source_label VARCHAR(200),\n",
    "                General_source_URL VARCHAR(500),\n",
    "                Short_description VARCHAR(500)\n",
    "                )\"\"\")\n",
    "    curr.execute(create_table_command)"
   ]
  },
  {
   "cell_type": "code",
   "execution_count": 23,
   "id": "8ea52c45",
   "metadata": {},
   "outputs": [],
   "source": [
    "def create_table_2(curr):\n",
    "    create_table_command = (\"\"\"CREATE TABLE covid_variants(\n",
    "                location VARCHAR(150),\n",
    "                date DATE,\n",
    "                varient VARCHAR(150),\n",
    "                num_sequences NUMERIC,\n",
    "                perc_sequences NUMERIC,\n",
    "                num_sequences_total NUMERIC\n",
    "                )\"\"\")\n",
    "    curr.execute(create_table_command)"
   ]
  },
  {
   "cell_type": "code",
   "execution_count": 24,
   "id": "30c74ca4",
   "metadata": {},
   "outputs": [],
   "source": [
    "def create_table_3(curr):\n",
    "    create_table_command = (\"\"\"CREATE TABLE excess_deaths(\n",
    "                location VARCHAR(150),\n",
    "                date DATE,\n",
    "                p_scores_all_ages NUMERIC,\n",
    "                p_scores_15_64 NUMERIC,\n",
    "                p_scores_65_74 NUMERIC,\n",
    "                p_scores_75_84 NUMERIC,\n",
    "                p_scores_85plus NUMERIC,\n",
    "                deaths_2020_all_ages NUMERIC,\n",
    "                average_deaths_2015_2019_all_ages NUMERIC,\n",
    "                deaths_2015_all_ages NUMERIC,\n",
    "                deaths_2016_all_ages NUMERIC,\n",
    "                deaths_2017_all_ages NUMERIC,\n",
    "                deaths_2018_all_ages NUMERIC,\n",
    "                deaths_2019_all_ages NUMERIC,\n",
    "                deaths_2010_all_ages NUMERIC,\n",
    "                deaths_2011_all_ages NUMERIC,\n",
    "                deaths_2012_all_ages NUMERIC,\n",
    "                deaths_2013_all_ages NUMERIC,\n",
    "                deaths_2014_all_ages NUMERIC,\n",
    "                deaths_2021_all_ages NUMERIC,\n",
    "                time NUMERIC,\n",
    "                time_unit VARCHAR(100),\n",
    "                p_scores_0_14 NUMERIC,\n",
    "                projected_deaths_2020_all_ages NUMERIC,\n",
    "                excess_proj_all_ages NUMERIC,\n",
    "                cum_excess_proj_all_ages NUMERIC,\n",
    "                cum_proj_deaths_all_ages NUMERIC,\n",
    "                cum_p_proj_all_ages NUMERIC,\n",
    "                p_proj_all_ages NUMERIC,\n",
    "                p_proj_0_14 NUMERIC,\n",
    "                p_proj_15_64 NUMERIC,\n",
    "                p_proj_65_74 NUMERIC,\n",
    "                p_proj_75_84 NUMERIC,\n",
    "                p_proj_85p NUMERIC,\n",
    "                cum_excess_per_million_proj_all_ages NUMERIC\n",
    "                )\"\"\")\n",
    "    curr.execute(create_table_command)"
   ]
  },
  {
   "cell_type": "code",
   "execution_count": 25,
   "id": "20f8142a",
   "metadata": {},
   "outputs": [],
   "source": [
    "def create_table_4(curr):\n",
    "    create_table_command = (\"\"\"CREATE TABLE owid_covid_table(\n",
    "                iso_code VARCHAR(50),\n",
    "                continent VARCHAR(50),\n",
    "                location VARCHAR(150),\n",
    "                date DATE,\n",
    "                total_cases NUMERIC,\n",
    "                new_cases NUMERIC,\n",
    "                new_cases_smoothed NUMERIC,\n",
    "                total_deaths NUMERIC,\n",
    "                new_deaths NUMERIC,\n",
    "                new_deaths_smoothed NUMERIC,\n",
    "                total_cases_per_million NUMERIC,\n",
    "                new_cases_per_million NUMERIC,\n",
    "                new_cases_smoothed_per_million NUMERIC,\n",
    "                total_deaths_per_million NUMERIC,\n",
    "                new_deaths_per_million NUMERIC,\n",
    "                new_deaths_smoothed_per_million NUMERIC,\n",
    "                reproduction_rate NUMERIC,\n",
    "                icu_patients NUMERIC,\n",
    "                icu_patients_per_million NUMERIC,\n",
    "                hosp_patients NUMERIC,\n",
    "                hosp_patients_per_million NUMERIC,\n",
    "                weekly_icu_admissions NUMERIC,\n",
    "                weekly_icu_admissions_per_million NUMERIC,\n",
    "                weekly_hosp_admissions NUMERIC,\n",
    "                weekly_hosp_admissions_per_million NUMERIC,\n",
    "                new_tests NUMERIC,\n",
    "                total_tests NUMERIC,\n",
    "                total_tests_per_thousand NUMERIC,\n",
    "                new_tests_per_thousand NUMERIC,\n",
    "                new_tests_smoothed NUMERIC,\n",
    "                new_tests_smoothed_per_thousand NUMERIC,\n",
    "                positive_rate NUMERIC,\n",
    "                tests_per_case NUMERIC,\n",
    "                tests_units VARCHAR(150),\n",
    "                total_vaccinations NUMERIC,\n",
    "                people_vaccinated NUMERIC,\n",
    "                people_fully_vaccinated NUMERIC,\n",
    "                total_boosters NUMERIC,\n",
    "                new_vaccinations NUMERIC,\n",
    "                new_vaccinations_smoothed NUMERIC,\n",
    "                total_vaccinations_per_hundred NUMERIC,\n",
    "                people_vaccinated_per_hundred NUMERIC,\n",
    "                people_fully_vaccinated_per_hundred NUMERIC,\n",
    "                total_boosters_per_hundred NUMERIC,\n",
    "                new_vaccinations_smoothed_per_million NUMERIC,\n",
    "                stringency_index NUMERIC,\n",
    "                population NUMERIC,\n",
    "                population_density NUMERIC,\n",
    "                median_age NUMERIC,\n",
    "                aged_65_older NUMERIC,\n",
    "                aged_70_older NUMERIC,\n",
    "                gdp_per_capita NUMERIC,\n",
    "                extreme_poverty NUMERIC,\n",
    "                cardiovasc_death_rate NUMERIC,\n",
    "                diabetes_prevalence NUMERIC,\n",
    "                female_smokers NUMERIC,\n",
    "                male_smokers NUMERIC,\n",
    "                handwashing_facilities NUMERIC,\n",
    "                hospital_beds_per_thousand NUMERIC,\n",
    "                life_expectancy NUMERIC,\n",
    "                human_development_index NUMERIC,\n",
    "                excess_mortality_cumulative_absolute NUMERIC,\n",
    "                excess_mortality_cumulative NUMERIC,\n",
    "                excess_mortality NUMERIC,\n",
    "                excess_mortality_cumulative_per_million NUMERIC\n",
    "                )\"\"\")\n",
    "    curr.execute(create_table_command)"
   ]
  },
  {
   "cell_type": "code",
   "execution_count": 26,
   "id": "9e19238d",
   "metadata": {},
   "outputs": [],
   "source": [
    "def create_table_5(curr):\n",
    "    create_table_command = (\"\"\"CREATE TABLE vaccine_type(\n",
    "                location VARCHAR(150),\n",
    "                date DATE,\n",
    "                vaccine VARCHAR(200),\n",
    "                source VARCHAR(300),\n",
    "                total_vaccinations NUMERIC,\n",
    "                people_vaccinated NUMERIC,\n",
    "                people_fully_vaccinated NUMERIC,\n",
    "                total_boosters NUMERIC\n",
    "                )\"\"\")\n",
    "    curr.execute(create_table_command)"
   ]
  },
  {
   "cell_type": "code",
   "execution_count": 27,
   "id": "72d82d22",
   "metadata": {},
   "outputs": [],
   "source": [
    "create_table_1(curr)\n",
    "create_table_2(curr)\n",
    "create_table_3(curr)\n",
    "create_table_4(curr)\n",
    "create_table_5(curr)\n",
    "conn.commit()"
   ]
  },
  {
   "cell_type": "markdown",
   "id": "17cc3f6a",
   "metadata": {},
   "source": [
    "**INSERT INTO DATABASE**"
   ]
  },
  {
   "cell_type": "markdown",
   "id": "8598dbb2",
   "metadata": {},
   "source": [
    "**INSERT INTO TABLE 1**"
   ]
  },
  {
   "cell_type": "code",
   "execution_count": 28,
   "id": "b821a373",
   "metadata": {},
   "outputs": [],
   "source": [
    "def append_from_df_1_to_db(curr,df):\n",
    "    for i, row in df.iterrows():\n",
    "        insert_into_table_1(curr,row['ISO code'], row['Entity'], row['Date'], row['Source URL'], row['Source label'], \n",
    "                        row['Notes'],row['Number of observations'], row['Cumulative total'],\n",
    "                        row['Cumulative total per thousand'], row['Daily change in cumulative total'],\n",
    "                        row['Daily change in cumulative total per thousand'], row['7-day smoothed daily change'],\n",
    "                        row['7-day smoothed daily change per thousand'], row['Short-term positive rate'],\n",
    "                        row['Short-term tests per case'], row['General source label'], row['General source URL'],\n",
    "                        row['Short description'])"
   ]
  },
  {
   "cell_type": "code",
   "execution_count": 29,
   "id": "156aeb60",
   "metadata": {},
   "outputs": [],
   "source": [
    "def insert_into_table_1(curr, a, b, c, d, e, f, g, h, i, j, k, l, m, n, o, p, q, r):\n",
    "    insert_into_covid_testing = (\"\"\"INSERT INTO covid_testing (ISO_code, Entity, Date, Source_URL, Source_label, Notes, \n",
    "    Number_of_observations, Cumulative_total, Cumulative_total_per_thousand, Daily_change_in_cumulative_total, \n",
    "    Daily_change_in_cumulative_total_per_thousand, seven_day_smoothed_daily_change, \n",
    "    seven_day_smoothed_daily_change_per_thousand, Short_term_positive_rate, Short_term_tests_per_case, \n",
    "    General_source_label, General_source_URL, Short_description)\n",
    "    VALUES(%s,%s,%s,%s,%s,%s,%s,%s,%s,%s,%s,%s,%s,%s,%s,%s,%s,%s)\n",
    "    ;\"\"\")\n",
    "    row_to_insert = (a, b, c, d, e, f, g, h, i, j, k, l, m, n, o, p, q, r)\n",
    "    curr.execute(insert_into_covid_testing, row_to_insert)"
   ]
  },
  {
   "cell_type": "markdown",
   "id": "f4122660",
   "metadata": {},
   "source": [
    "**INSERT INTO TABLE 2**"
   ]
  },
  {
   "cell_type": "code",
   "execution_count": 30,
   "id": "8fc5dd69",
   "metadata": {},
   "outputs": [],
   "source": [
    "def append_from_df_2_to_db(curr,df):\n",
    "    for i, row in df.iterrows():\n",
    "        insert_into_table_2(curr, row['location'], row['date'], row['variant'], row['num_sequences'], \n",
    "                        row['perc_sequences'], row['num_sequences_total'])"
   ]
  },
  {
   "cell_type": "code",
   "execution_count": 31,
   "id": "409177e3",
   "metadata": {},
   "outputs": [],
   "source": [
    "def insert_into_table_2(curr, a, b, c, d, e, f):\n",
    "    insert_into_table_2 = (\"\"\"INSERT INTO covid_variants (location, date, varient, num_sequences, \n",
    "    perc_sequences, num_sequences_total)\n",
    "    VALUES(%s,%s,%s,%s,%s,%s)\n",
    "    ;\"\"\")\n",
    "    row_to_insert = (a, b, c, d, e, f)\n",
    "    curr.execute(insert_into_table_2, row_to_insert)"
   ]
  },
  {
   "cell_type": "markdown",
   "id": "6f129c76",
   "metadata": {},
   "source": [
    "**INSERT INTO TABLE 3**"
   ]
  },
  {
   "cell_type": "code",
   "execution_count": 32,
   "id": "f165bf91",
   "metadata": {},
   "outputs": [],
   "source": [
    "def append_from_df_3_to_db(curr,df):\n",
    "    for i, row in df.iterrows():\n",
    "        insert_into_table_3(curr, row['location'], row['date'],row['p_scores_all_ages'], row['p_scores_15_64'],\n",
    "                        row['p_scores_65_74'],row['p_scores_75_84'],row['p_scores_85plus'],\n",
    "                        row['deaths_2020_all_ages'],row['average_deaths_2015_2019_all_ages'],\n",
    "                        row['deaths_2015_all_ages'],row['deaths_2016_all_ages'],row['deaths_2017_all_ages'],\n",
    "                        row['deaths_2018_all_ages'],row['deaths_2019_all_ages'],row['deaths_2010_all_ages'],\n",
    "                        row['deaths_2011_all_ages'], row['deaths_2012_all_ages'], row['deaths_2013_all_ages'],\n",
    "                        row['deaths_2014_all_ages'], row['deaths_2021_all_ages'], row['time'], row['time_unit'], \n",
    "                        row['p_scores_0_14'], row['projected_deaths_2020_all_ages'],\n",
    "                        row['excess_proj_all_ages'], row['cum_excess_proj_all_ages'],\n",
    "                        row['cum_proj_deaths_all_ages'], row['cum_p_proj_all_ages'], row['p_proj_all_ages'],\n",
    "                        row['p_proj_0_14'], row['p_proj_15_64'], row['p_proj_65_74'], row['p_proj_75_84'],\n",
    "                        row['p_proj_85p'], row['cum_excess_per_million_proj_all_ages'])"
   ]
  },
  {
   "cell_type": "code",
   "execution_count": 33,
   "id": "19df2d36",
   "metadata": {},
   "outputs": [],
   "source": [
    "def insert_into_table_3(curr, a,b,c,d,e,f,g,h,i,j,k,l,m,n,o,p,q,r,s,t,u,v,w,x,y,z,aa,ab,ac,ad,ae,af,ag,ah,ai):\n",
    "    insert_into_table_3 = (\"\"\"INSERT INTO excess_deaths (location, date, p_scores_all_ages, p_scores_15_64, p_scores_65_74,\n",
    "    p_scores_75_84, p_scores_85plus, deaths_2020_all_ages, average_deaths_2015_2019_all_ages, deaths_2015_all_ages,\n",
    "    deaths_2016_all_ages, deaths_2017_all_ages, deaths_2018_all_ages, deaths_2019_all_ages, deaths_2010_all_ages,\n",
    "    deaths_2011_all_ages, deaths_2012_all_ages, deaths_2013_all_ages, deaths_2014_all_ages,deaths_2021_all_ages,time,time_unit,\n",
    "    p_scores_0_14, projected_deaths_2020_all_ages, excess_proj_all_ages, cum_excess_proj_all_ages, cum_proj_deaths_all_ages,\n",
    "    cum_p_proj_all_ages, p_proj_all_ages, p_proj_0_14, p_proj_15_64,\n",
    "    p_proj_65_74, p_proj_75_84, p_proj_85p, cum_excess_per_million_proj_all_ages)\n",
    "    VALUES(%s,%s,%s,%s,%s,%s,%s,%s,%s,%s,%s,%s,%s,%s,%s,%s,%s,%s,%s,%s,%s,%s,%s,%s,%s,%s,%s,%s,%s,%s,%s,%s,%s,%s,%s)\n",
    "    ;\"\"\")\n",
    "    row_to_insert = (a,b,c,d,e,f,g,h,i,j,k,l,m,n,o,p,q,r,s,t,u,v,w,x,y,z,aa,ab,ac,ad,ae,af,ag,ah,ai)\n",
    "    curr.execute(insert_into_table_3, row_to_insert)"
   ]
  },
  {
   "cell_type": "markdown",
   "id": "c14f10f2",
   "metadata": {},
   "source": [
    "**INSERT INTO TABEL 4**"
   ]
  },
  {
   "cell_type": "code",
   "execution_count": 34,
   "id": "cb80477d",
   "metadata": {},
   "outputs": [],
   "source": [
    "def append_from_df_4_to_db(curr,df):\n",
    "    for i, row in df.iterrows():\n",
    "        insert_into_table_4(curr, row['iso_code'], row['continent'], row['location'], row['date'], row['total_cases'], \n",
    "                        row['new_cases'],row['new_cases_smoothed'], row['total_deaths'], row['new_deaths'],\n",
    "                       row['new_deaths_smoothed'], row['total_cases_per_million'],\n",
    "                       row['new_cases_per_million'], row['new_cases_smoothed_per_million'],\n",
    "                       row['total_deaths_per_million'], row['new_deaths_per_million'],\n",
    "                       row['new_deaths_smoothed_per_million'], row['reproduction_rate'], row['icu_patients'],\n",
    "                       row['icu_patients_per_million'], row['hosp_patients'],\n",
    "                       row['hosp_patients_per_million'], row['weekly_icu_admissions'],\n",
    "                       row['weekly_icu_admissions_per_million'], row['weekly_hosp_admissions'],\n",
    "                       row['weekly_hosp_admissions_per_million'], row['new_tests'], row['total_tests'],\n",
    "                       row['total_tests_per_thousand'], row['new_tests_per_thousand'],\n",
    "                       row['new_tests_smoothed'], row['new_tests_smoothed_per_thousand'],\n",
    "                       row['positive_rate'], row['tests_per_case'], row['tests_units'], row['total_vaccinations'],\n",
    "                       row['people_vaccinated'], row['people_fully_vaccinated'], row['total_boosters'],\n",
    "                       row['new_vaccinations'], row['new_vaccinations_smoothed'],\n",
    "                       row['total_vaccinations_per_hundred'], row['people_vaccinated_per_hundred'],\n",
    "                       row['people_fully_vaccinated_per_hundred'], row['total_boosters_per_hundred'],\n",
    "                       row['new_vaccinations_smoothed_per_million'], row['stringency_index'],\n",
    "                       row['population'], row['population_density'], row['median_age'], row['aged_65_older'],\n",
    "                       row['aged_70_older'], row['gdp_per_capita'], row['extreme_poverty'],\n",
    "                       row['cardiovasc_death_rate'], row['diabetes_prevalence'], row['female_smokers'],\n",
    "                       row['male_smokers'], row['handwashing_facilities'], row['hospital_beds_per_thousand'],\n",
    "                       row['life_expectancy'], row['human_development_index'],\n",
    "                       row['excess_mortality_cumulative_absolute'], row['excess_mortality_cumulative'],\n",
    "                       row['excess_mortality'], row['excess_mortality_cumulative_per_million'])"
   ]
  },
  {
   "cell_type": "code",
   "execution_count": 35,
   "id": "45a4e9db",
   "metadata": {},
   "outputs": [],
   "source": [
    "def insert_into_table_4(curr, a,b,c,d,e,f,g,h,i,j,k,l,m,n,o,p,q,r,s,t,u,v,w,x,y,z,aa,ab,ac,ad,ae,af,ag,\n",
    "                        ah,ai,aj,ak,al,am,an,ao,ap,aq,ar,at,au,av,aw,ax,ay,az,ba,bb,bc,bd,be,bf,bg,bh,bj,bk,bl,bm,bn,bo):\n",
    "    insert_into_table_4 = (\"\"\"INSERT INTO owid_covid_table (iso_code,\n",
    "    continent,location,date,total_cases,new_cases,new_cases_smoothed,total_deaths,new_deaths,\n",
    "    new_deaths_smoothed,total_cases_per_million,new_cases_per_million,new_cases_smoothed_per_million,\n",
    "    total_deaths_per_million,new_deaths_per_million,new_deaths_smoothed_per_million,reproduction_rate,\n",
    "    icu_patients,icu_patients_per_million,hosp_patients,hosp_patients_per_million,weekly_icu_admissions,\n",
    "    weekly_icu_admissions_per_million,weekly_hosp_admissions,weekly_hosp_admissions_per_million,\n",
    "    new_tests,total_tests,total_tests_per_thousand,new_tests_per_thousand,new_tests_smoothed,\n",
    "    new_tests_smoothed_per_thousand,positive_rate,tests_per_case,tests_units,total_vaccinations,people_vaccinated,\n",
    "    people_fully_vaccinated,total_boosters,new_vaccinations,new_vaccinations_smoothed,total_vaccinations_per_hundred,\n",
    "    people_vaccinated_per_hundred,people_fully_vaccinated_per_hundred,total_boosters_per_hundred,\n",
    "    new_vaccinations_smoothed_per_million,stringency_index,population,population_density,median_age,\n",
    "    aged_65_older,aged_70_older,gdp_per_capita,extreme_poverty,cardiovasc_death_rate,diabetes_prevalence,\n",
    "    female_smokers,male_smokers,handwashing_facilities,hospital_beds_per_thousand,life_expectancy,human_development_index,\n",
    "    excess_mortality_cumulative_absolute,excess_mortality_cumulative,excess_mortality,\n",
    "    excess_mortality_cumulative_per_million)\n",
    "    VALUES(%s,%s,%s,%s,%s,%s,%s,%s,%s,%s,%s,%s,%s,%s,%s,%s,%s,%s,%s,%s,%s,%s,%s,%s,%s,%s,%s,%s,%s,%s,%s,\n",
    "    %s,%s,%s,%s,%s,%s,%s,%s,%s,%s,%s,%s,%s,%s,%s,%s,%s,%s,%s,%s,%s,%s,%s,%s,%s,%s,%s,%s,%s,%s,%s,%s,%s,%s)\n",
    "    ;\"\"\")\n",
    "    row_to_insert = (a,b,c,d,e,f,g,h,i,j,k,l,m,n,o,p,q,r,s,t,u,v,w,x,y,z,aa,ab,ac,ad,ae,af,ag,\n",
    "                        ah,ai,aj,ak,al,am,an,ao,ap,aq,ar,at,au,av,aw,ax,ay,az,ba,bb,bc,bd,be,bf,bg,bh,bj,bk,bl,bm,bn,bo)\n",
    "    curr.execute(insert_into_table_4, row_to_insert)"
   ]
  },
  {
   "cell_type": "markdown",
   "id": "d3d525bf",
   "metadata": {},
   "source": [
    "**INSERT INTO TABLE 5**"
   ]
  },
  {
   "cell_type": "code",
   "execution_count": 36,
   "id": "3ac61133",
   "metadata": {},
   "outputs": [],
   "source": [
    "def append_from_df_5_to_db(curr,df):\n",
    "    for i, row in df.iterrows():\n",
    "        insert_into_table_5(curr, row['location'], row['date'], row['source_url'], row['total_vaccinations'],\n",
    "                        row['people_vaccinated'], row['people_fully_vaccinated'], row['total_boosters'])"
   ]
  },
  {
   "cell_type": "code",
   "execution_count": 37,
   "id": "9f2d3198",
   "metadata": {},
   "outputs": [],
   "source": [
    "def insert_into_table_5(curr, a, b, c, d, e, f, g):\n",
    "    insert_into_track_5 = (\"\"\"INSERT INTO vaccine_type (location,date,source,total_vaccinations,people_vaccinated,\n",
    "    people_fully_vaccinated,total_boosters)\n",
    "    VALUES(%s,%s,%s,%s,%s,%s,%s)\n",
    "    ;\"\"\")\n",
    "    row_to_insert = (a, b, c, d, e, f, g)\n",
    "    curr.execute(insert_into_track_5, row_to_insert)"
   ]
  },
  {
   "cell_type": "code",
   "execution_count": 38,
   "id": "08184b6f",
   "metadata": {},
   "outputs": [],
   "source": [
    "append_from_df_1_to_db(curr, df_1)\n",
    "append_from_df_2_to_db(curr, df_2)\n",
    "append_from_df_3_to_db(curr, df_3)\n",
    "append_from_df_4_to_db(curr, df_4)\n",
    "append_from_df_5_to_db(curr, df_5)\n",
    "conn.commit()"
   ]
  },
  {
   "cell_type": "markdown",
   "id": "bdfde57a",
   "metadata": {},
   "source": [
    "**CREATING VIEWS**"
   ]
  },
  {
   "cell_type": "code",
   "execution_count": 39,
   "id": "8df54d5f",
   "metadata": {},
   "outputs": [],
   "source": [
    "def create_view_main_covid_19_data(curr):\n",
    "    create_view_command = (\"\"\"CREATE VIEW main_covid_19_data AS\n",
    "                SELECT continent, location, date, new_cases, new_deaths, new_tests, new_vaccinations, \n",
    "                people_vaccinated, people_fully_vaccinated, total_boosters \n",
    "                FROM owid_covid_table\n",
    "                WHERE continent != '0'\n",
    "                ORDER BY 2,3\n",
    "                \"\"\")\n",
    "    curr.execute(create_view_command)"
   ]
  },
  {
   "cell_type": "code",
   "execution_count": 40,
   "id": "9fcb6d8d",
   "metadata": {},
   "outputs": [],
   "source": [
    "def create_view_continent_population(curr):\n",
    "    create_view_command = (\"\"\"CREATE VIEW continent_population AS \n",
    "                WITH new_table AS (SELECT location, \n",
    "                continent, MAX(population) AS population, MAX(population_density) AS population_density, \n",
    "                MAX(median_age) AS median_age, MAX(aged_65_older) AS aged_65_older, \n",
    "                MAX(aged_70_older) AS aged_70_older, MAX(gdp_per_capita) AS gdp_per_capita, \n",
    "                MAX(handwashing_facilities) AS handwashing_facilities, MAX(life_expectancy) AS life_expectancy\n",
    "                FROM owid_covid_table\n",
    "                WHERE continent != '0'\n",
    "                GROUP BY continent,location\n",
    "                ORDER BY 1) \n",
    "\n",
    "                SELECT continent, SUM(population) AS population, AVG(population_density) AS populaion_density, \n",
    "                AVG(median_age) AS median_age, AVG(aged_65_older) AS aged_65_older, \n",
    "                AVG(aged_70_older) AS aged_70_older, AVG(gdp_per_capita) AS gdp_per_capita, \n",
    "                SUM(handwashing_facilities) AS handwashing_facilities, AVG(life_expectancy) AS life_expectancy\n",
    "                FROM new_table\n",
    "                GROUP BY continent\n",
    "                ORDER BY 1\"\"\")\n",
    "    curr.execute(create_view_command)"
   ]
  },
  {
   "cell_type": "code",
   "execution_count": 41,
   "id": "e81bf358",
   "metadata": {},
   "outputs": [],
   "source": [
    "def create_view_country_population(curr):\n",
    "    create_view_command = (\"\"\"CREATE VIEW country_population AS\n",
    "                SELECT location, MAX(population) AS population, MAX(population_density) AS populaion_density, \n",
    "                MAX(median_age) AS median_age, MAX(aged_65_older) AS aged_65_older, \n",
    "                MAX(aged_70_older) AS aged_70_older, MAX(gdp_per_capita) AS gdp_per_capita, \n",
    "                MAX(handwashing_facilities) AS handwashing_facities, MAX(life_expectancy) AS life_expenctancy\n",
    "                FROM owid_covid_table\n",
    "                WHERE continent != '0'\n",
    "                GROUP BY location\n",
    "                ORDER BY 1\n",
    "                \"\"\")\n",
    "    curr.execute(create_view_command)"
   ]
  },
  {
   "cell_type": "code",
   "execution_count": 42,
   "id": "be9adb87",
   "metadata": {},
   "outputs": [],
   "source": [
    "delete_view_1(curr)\n",
    "create_view_main_covid_19_data(curr)\n",
    "delete_view_2(curr)\n",
    "create_view_continent_population(curr)\n",
    "delete_view_3(curr)\n",
    "create_view_country_population(curr)\n",
    "conn.commit()"
   ]
  },
  {
   "cell_type": "markdown",
   "id": "f17e412a",
   "metadata": {},
   "source": [
    "14 Minute Run time"
   ]
  }
 ],
 "metadata": {
  "kernelspec": {
   "display_name": "Python 3",
   "language": "python",
   "name": "python3"
  },
  "language_info": {
   "codemirror_mode": {
    "name": "ipython",
    "version": 3
   },
   "file_extension": ".py",
   "mimetype": "text/x-python",
   "name": "python",
   "nbconvert_exporter": "python",
   "pygments_lexer": "ipython3",
   "version": "3.8.8"
  }
 },
 "nbformat": 4,
 "nbformat_minor": 5
}
