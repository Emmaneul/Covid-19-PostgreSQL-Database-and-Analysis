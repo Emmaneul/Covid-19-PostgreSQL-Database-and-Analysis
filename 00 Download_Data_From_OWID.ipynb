{
 "cells": [
  {
   "cell_type": "markdown",
   "id": "bead1cfb",
   "metadata": {},
   "source": [
    "**Introduction**"
   ]
  },
  {
   "cell_type": "markdown",
   "id": "af405eb3",
   "metadata": {},
   "source": [
    "This Notebook has been coded to download Covid-19 Data from Our World with Data (OWID) Github site. The results are then used for further analysis."
   ]
  },
  {
   "cell_type": "markdown",
   "id": "a90a9c7b",
   "metadata": {},
   "source": [
    "**Import Libraries**"
   ]
  },
  {
   "cell_type": "code",
   "execution_count": 1,
   "id": "0236e014",
   "metadata": {},
   "outputs": [],
   "source": [
    "import requests\n",
    "from bs4 import BeautifulSoup"
   ]
  },
  {
   "cell_type": "code",
   "execution_count": 2,
   "id": "afc12162",
   "metadata": {},
   "outputs": [],
   "source": [
    "import pandas as pd\n",
    "from pandas import Series,DataFrame"
   ]
  },
  {
   "cell_type": "markdown",
   "id": "2e389154",
   "metadata": {},
   "source": [
    "**Download Files**"
   ]
  },
  {
   "cell_type": "code",
   "execution_count": 3,
   "id": "d7341730",
   "metadata": {},
   "outputs": [],
   "source": [
    "def download_file(url, filename):\n",
    "    try:\n",
    "        with requests.get(url) as req:\n",
    "            with open(filename,'wb') as f:\n",
    "                for chunk in req.iter_content(chunk_size=8192):\n",
    "                    if chunk:\n",
    "                        f.write(chunk)\n",
    "            return filename\n",
    "    except Exception as e:\n",
    "        print(e)\n",
    "        return None"
   ]
  },
  {
   "cell_type": "code",
   "execution_count": 4,
   "id": "47be26e8",
   "metadata": {},
   "outputs": [],
   "source": [
    "owid_covid_data_url = 'https://github.com/owid/covid-19-data/raw/master/public/data/owid-covid-data.csv'\n",
    "covid_variants_url = 'https://github.com/owid/covid-19-data/raw/master/public/data/variants/covid-variants.csv'\n",
    "excess_deaths_url = 'https://github.com/owid/covid-19-data/raw/master/public/data/excess_mortality/excess_mortality.csv'\n",
    "covid_testing_latest_data_source_details_url = 'https://github.com/owid/covid-19-data/raw/master/public/data/testing/covid-testing-latest-data-source-details.xlsx'"
   ]
  },
  {
   "cell_type": "code",
   "execution_count": 5,
   "id": "c378c74b",
   "metadata": {},
   "outputs": [
    {
     "data": {
      "text/plain": [
       "'covid-testing-latest-data-source-details.xlsx'"
      ]
     },
     "execution_count": 5,
     "metadata": {},
     "output_type": "execute_result"
    }
   ],
   "source": [
    "download_file(covid_testing_latest_data_source_details_url, 'covid-testing-latest-data-source-details.xlsx')"
   ]
  },
  {
   "cell_type": "code",
   "execution_count": 6,
   "id": "5c51ba22",
   "metadata": {},
   "outputs": [
    {
     "data": {
      "text/plain": [
       "'covid-variants.csv'"
      ]
     },
     "execution_count": 6,
     "metadata": {},
     "output_type": "execute_result"
    }
   ],
   "source": [
    "download_file(covid_variants_url, 'covid-variants.csv')"
   ]
  },
  {
   "cell_type": "code",
   "execution_count": 7,
   "id": "051a1c3b",
   "metadata": {},
   "outputs": [
    {
     "data": {
      "text/plain": [
       "'excess-deaths.csv'"
      ]
     },
     "execution_count": 7,
     "metadata": {},
     "output_type": "execute_result"
    }
   ],
   "source": [
    "download_file(excess_deaths_url, 'excess-deaths.csv')"
   ]
  },
  {
   "cell_type": "code",
   "execution_count": 8,
   "id": "7ad6a927",
   "metadata": {},
   "outputs": [
    {
     "data": {
      "text/plain": [
       "'owid-covid-data.csv'"
      ]
     },
     "execution_count": 8,
     "metadata": {},
     "output_type": "execute_result"
    }
   ],
   "source": [
    "download_file(owid_covid_data_url, 'owid-covid-data.csv')"
   ]
  },
  {
   "cell_type": "markdown",
   "id": "3ac75254",
   "metadata": {},
   "source": [
    "**WEB SCRAPING**"
   ]
  },
  {
   "cell_type": "code",
   "execution_count": 9,
   "id": "fb0bc734",
   "metadata": {},
   "outputs": [],
   "source": [
    "url_to_srape = 'https://github.com/owid/covid-19-data/blob/master/public/data/vaccinations/country_data/South%20Africa.csv'"
   ]
  },
  {
   "cell_type": "code",
   "execution_count": 10,
   "id": "ec466d99",
   "metadata": {},
   "outputs": [],
   "source": [
    "result = requests.get(url_to_srape)\n",
    "\n",
    "c = result.content"
   ]
  },
  {
   "cell_type": "code",
   "execution_count": 11,
   "id": "1276e677",
   "metadata": {},
   "outputs": [],
   "source": [
    "soup = BeautifulSoup(c)"
   ]
  },
  {
   "cell_type": "code",
   "execution_count": 12,
   "id": "25b49d4d",
   "metadata": {},
   "outputs": [],
   "source": [
    "summary = soup.find('div',{'class':'repository-content','id':'repo-content-pjax-container'})"
   ]
  },
  {
   "cell_type": "code",
   "execution_count": 13,
   "id": "2487c718",
   "metadata": {},
   "outputs": [
    {
     "data": {
      "text/plain": [
       "bs4.element.Tag"
      ]
     },
     "execution_count": 13,
     "metadata": {},
     "output_type": "execute_result"
    }
   ],
   "source": [
    "type(summary)"
   ]
  },
  {
   "cell_type": "code",
   "execution_count": 14,
   "id": "17aac47a",
   "metadata": {},
   "outputs": [],
   "source": [
    "tables = summary.find_all('table')"
   ]
  },
  {
   "cell_type": "code",
   "execution_count": 15,
   "id": "8e23bb6a",
   "metadata": {},
   "outputs": [],
   "source": [
    "data = []\n",
    "\n",
    "rows = tables[0].findAll('tr')\n",
    "\n",
    "for tr in rows:\n",
    "    cols = tr.findAll('td')\n",
    "    \n",
    "    for td in cols:\n",
    "        \n",
    "        text = td.find(text=True)\n",
    "        #print(text)\n",
    "        data.append(text)\n",
    "mylist = data[1:]"
   ]
  },
  {
   "cell_type": "code",
   "execution_count": 16,
   "id": "976468e3",
   "metadata": {},
   "outputs": [],
   "source": [
    "location = []\n",
    "date = []\n",
    "vaccine = []\n",
    "source_url = []\n",
    "total_vaccinations = []\n",
    "people_vaccinated = []\n",
    "people_fully_vaccinated = []\n",
    "total_boosters = []\n",
    "for i in range(0,1800,9):\n",
    "    location.append(mylist[i + 1])\n",
    "    date.append(mylist[i + 2])\n",
    "    vaccine.append(mylist[i + 3])\n",
    "    source_url.append(mylist[i + 4])\n",
    "    total_vaccinations.append(mylist[i + 5])\n",
    "    people_vaccinated.append(mylist[i + 6])\n",
    "    people_fully_vaccinated.append(mylist[i + 7])\n",
    "    total_boosters.append(mylist[i + 8])"
   ]
  },
  {
   "cell_type": "code",
   "execution_count": 17,
   "id": "7ece09cd",
   "metadata": {},
   "outputs": [],
   "source": [
    "my_dict = {'location':location, 'date':date, 'vaccine':vaccine, 'source_url':source_url, \n",
    "           'total_vaccinations':total_vaccinations,'people_vaccinated':people_vaccinated, \n",
    "           'people_fully_vaccinated':people_fully_vaccinated,'total_boosters':total_boosters}"
   ]
  },
  {
   "cell_type": "code",
   "execution_count": 18,
   "id": "de2f3b1b",
   "metadata": {},
   "outputs": [],
   "source": [
    "df_vaccine_type = pd.DataFrame(my_dict)"
   ]
  },
  {
   "cell_type": "code",
   "execution_count": 19,
   "id": "f7d58a85",
   "metadata": {},
   "outputs": [],
   "source": [
    "df_vaccine_type.to_csv('vaccine-type data RSA.csv', index = False, sep = '\\t')"
   ]
  }
 ],
 "metadata": {
  "kernelspec": {
   "display_name": "Python 3",
   "language": "python",
   "name": "python3"
  },
  "language_info": {
   "codemirror_mode": {
    "name": "ipython",
    "version": 3
   },
   "file_extension": ".py",
   "mimetype": "text/x-python",
   "name": "python",
   "nbconvert_exporter": "python",
   "pygments_lexer": "ipython3",
   "version": "3.8.8"
  }
 },
 "nbformat": 4,
 "nbformat_minor": 5
}
