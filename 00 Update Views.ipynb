{
 "cells": [
  {
   "cell_type": "markdown",
   "id": "dab00882",
   "metadata": {},
   "source": [
    "**IMPORT LIBRARIES**"
   ]
  },
  {
   "cell_type": "code",
   "execution_count": 1,
   "id": "41e26473",
   "metadata": {},
   "outputs": [],
   "source": [
    "import numpy as np\n",
    "import pandas as pd\n",
    "import psycopg2 as ps"
   ]
  },
  {
   "cell_type": "markdown",
   "id": "2411e654",
   "metadata": {},
   "source": [
    "**CONNECT TO DATABASE**"
   ]
  },
  {
   "cell_type": "code",
   "execution_count": 2,
   "id": "91c0466f",
   "metadata": {},
   "outputs": [],
   "source": [
    "host_name = 'localhost'\n",
    "dbname = 'owid_covid_19_db'\n",
    "port = '5432'\n",
    "username = 'postgres' \n",
    "password = 'password'\n",
    "conn = None"
   ]
  },
  {
   "cell_type": "code",
   "execution_count": 3,
   "id": "af19623a",
   "metadata": {},
   "outputs": [],
   "source": [
    "def connect_to_db(host_name, dbname, port, username, password):\n",
    "    try:\n",
    "        conn = ps.connect(host=host_name, database=dbname, user=username, password=password, port=port)\n",
    "\n",
    "    except ps.OperationalError as e:\n",
    "        raise e\n",
    "    else:\n",
    "        print('Connected!')\n",
    "        return conn"
   ]
  },
  {
   "cell_type": "code",
   "execution_count": 4,
   "id": "19df2a78",
   "metadata": {},
   "outputs": [
    {
     "name": "stdout",
     "output_type": "stream",
     "text": [
      "Connected!\n"
     ]
    }
   ],
   "source": [
    "conn = connect_to_db(host_name, dbname,port, username, password)"
   ]
  },
  {
   "cell_type": "markdown",
   "id": "c6404f46",
   "metadata": {},
   "source": [
    "**RETRIEVE INFORMATION**"
   ]
  },
  {
   "cell_type": "code",
   "execution_count": 5,
   "id": "e515e297",
   "metadata": {},
   "outputs": [],
   "source": [
    "sql = \"select * from continent_population;\"\n",
    "df_continent_population = pd.read_sql_query(sql, conn)"
   ]
  },
  {
   "cell_type": "code",
   "execution_count": 6,
   "id": "a77a12b0",
   "metadata": {},
   "outputs": [],
   "source": [
    "sql = \"select * from country_population;\"\n",
    "df_country_population = pd.read_sql_query(sql, conn)"
   ]
  },
  {
   "cell_type": "code",
   "execution_count": 7,
   "id": "469553e6",
   "metadata": {},
   "outputs": [],
   "source": [
    "sql = \"select * from main_covid_19_data;\"\n",
    "df_main_covid_19_data = pd.read_sql_query(sql, conn)\n",
    "conn = None"
   ]
  },
  {
   "cell_type": "markdown",
   "id": "09e398f1",
   "metadata": {},
   "source": [
    "**SAVE INFORMATION**"
   ]
  },
  {
   "cell_type": "code",
   "execution_count": 9,
   "id": "884babfe",
   "metadata": {},
   "outputs": [],
   "source": [
    "with pd.ExcelWriter('continent_population.xlsx', mode='w') as writer:\n",
    "    df_continent_population.to_excel(writer, index = False, sheet_name='DATA')"
   ]
  },
  {
   "cell_type": "code",
   "execution_count": 10,
   "id": "7440e10e",
   "metadata": {},
   "outputs": [],
   "source": [
    "with pd.ExcelWriter('country_population.xlsx', mode='w') as writer:\n",
    "    df_country_population.to_excel(writer, index = False, sheet_name='DATA')"
   ]
  },
  {
   "cell_type": "code",
   "execution_count": 11,
   "id": "1c58e41d",
   "metadata": {},
   "outputs": [],
   "source": [
    "with pd.ExcelWriter('main_covid_19_data.xlsx', mode='w') as writer:\n",
    "    df_main_covid_19_data.to_excel(writer, index = False, sheet_name='DATA')"
   ]
  }
 ],
 "metadata": {
  "kernelspec": {
   "display_name": "Python 3",
   "language": "python",
   "name": "python3"
  },
  "language_info": {
   "codemirror_mode": {
    "name": "ipython",
    "version": 3
   },
   "file_extension": ".py",
   "mimetype": "text/x-python",
   "name": "python",
   "nbconvert_exporter": "python",
   "pygments_lexer": "ipython3",
   "version": "3.8.8"
  }
 },
 "nbformat": 4,
 "nbformat_minor": 5
}
